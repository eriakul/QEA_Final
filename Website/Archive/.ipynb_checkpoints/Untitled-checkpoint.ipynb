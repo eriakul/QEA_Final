{
 "cells": [
  {
   "cell_type": "code",
   "execution_count": 13,
   "metadata": {},
   "outputs": [
    {
     "name": "stdout",
     "output_type": "stream",
     "text": [
      "\n",
      "        function m1_down_click() {\n",
      "            if (parseFloat(_this.m1_text.text) < 10) {\n",
      "                _this.m1_text.text = parseFloat(_this.m1_text.text) - 1;\n",
      "            }\n",
      "        }\n",
      "\n",
      "        function k1_down_click() {\n",
      "            if (parseFloat(_this.k1_text.text) < 10) {\n",
      "                _this.k1_text.text = parseFloat(_this.k1_text.text) - 1;\n",
      "            }\n",
      "        }\n",
      "\n",
      "        function b1_down_click() {\n",
      "            if (parseFloat(_this.b1_text.text) < 10) {\n",
      "                _this.b1_text.text = parseFloat(_this.b1_text.text) - 1;\n",
      "            }\n",
      "        }\n",
      "\n",
      "        function m2_down_click() {\n",
      "            if (parseFloat(_this.m2_text.text) < 10) {\n",
      "                _this.m2_text.text = parseFloat(_this.m2_text.text) - 1;\n",
      "            }\n",
      "        }\n",
      "\n",
      "        function k2_down_click() {\n",
      "            if (parseFloat(_this.k2_text.text) < 10) {\n",
      "                _this.k2_text.text = parseFloat(_this.k2_text.text) - 1;\n",
      "            }\n",
      "        }\n",
      "\n",
      "        function b2_down_click() {\n",
      "            if (parseFloat(_this.b2_text.text) < 10) {\n",
      "                _this.b2_text.text = parseFloat(_this.b2_text.text) - 1;\n",
      "            }\n",
      "        }\n"
     ]
    }
   ],
   "source": [
    "library = [\"m1_down\", \"k1_down\", \"b1_down\", \"m2_down\", \"k2_down\", \"b2_down\"] #\"m1_up\", \"k1_up\", \"b1_up\", \"m2_up\", \"k2_up\", \"b2_up\"]#, \n",
    "\n",
    "for i in library:\n",
    "    string = \"\"\"\n",
    "        function \"\"\"+i+\"\"\"_click() {\n",
    "            if (parseFloat(_this.\"\"\"+i[:2]+\"\"\"_text.text) > 0) {\n",
    "                _this.\"\"\"+i[:2]+\"\"\"_text.text = parseFloat(_this.\"\"\"+i[:2]+\"\"\"_text.text) - 1;\n",
    "            }\n",
    "        }\"\"\"\n",
    "    print(string)"
   ]
  },
  {
   "cell_type": "code",
   "execution_count": null,
   "metadata": {
    "collapsed": true
   },
   "outputs": [],
   "source": []
  }
 ],
 "metadata": {
  "kernelspec": {
   "display_name": "Python 3",
   "language": "python",
   "name": "python3"
  },
  "language_info": {
   "codemirror_mode": {
    "name": "ipython",
    "version": 3
   },
   "file_extension": ".py",
   "mimetype": "text/x-python",
   "name": "python",
   "nbconvert_exporter": "python",
   "pygments_lexer": "ipython3",
   "version": "3.6.1"
  }
 },
 "nbformat": 4,
 "nbformat_minor": 2
}
