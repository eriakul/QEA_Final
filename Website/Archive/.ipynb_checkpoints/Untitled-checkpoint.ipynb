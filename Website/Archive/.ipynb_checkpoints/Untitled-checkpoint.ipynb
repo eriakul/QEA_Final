{
 "cells": [
  {
   "cell_type": "code",
   "execution_count": 14,
   "metadata": {},
   "outputs": [
    {
     "name": "stdout",
     "output_type": "stream",
     "text": [
      "\n",
      "        function m1_down_click() {\n",
      "            if (parseFloat(_this.m1_text.text) > 0) {\n",
      "                _this.m1_text.text = parseFloat(_this.m1_text.text) - 1;\n",
      "            }\n",
      "        }\n",
      "\n",
      "        function k1_down_click() {\n",
      "            if (parseFloat(_this.k1_text.text) > 0) {\n",
      "                _this.k1_text.text = parseFloat(_this.k1_text.text) - 1;\n",
      "            }\n",
      "        }\n",
      "\n",
      "        function b1_down_click() {\n",
      "            if (parseFloat(_this.b1_text.text) > 0) {\n",
      "                _this.b1_text.text = parseFloat(_this.b1_text.text) - 1;\n",
      "            }\n",
      "        }\n",
      "\n",
      "        function m2_down_click() {\n",
      "            if (parseFloat(_this.m2_text.text) > 0) {\n",
      "                _this.m2_text.text = parseFloat(_this.m2_text.text) - 1;\n",
      "            }\n",
      "        }\n",
      "\n",
      "        function k2_down_click() {\n",
      "            if (parseFloat(_this.k2_text.text) > 0) {\n",
      "                _this.k2_text.text = parseFloat(_this.k2_text.text) - 1;\n",
      "            }\n",
      "        }\n",
      "\n",
      "        function b2_down_click() {\n",
      "            if (parseFloat(_this.b2_text.text) > 0) {\n",
      "                _this.b2_text.text = parseFloat(_this.b2_text.text) - 1;\n",
      "            }\n",
      "        }\n"
     ]
    }
   ],
   "source": [
    "library = [\"m1_down\", \"k1_down\", \"b1_down\", \"m2_down\", \"k2_down\", \"b2_down\"] #\"m1_up\", \"k1_up\", \"b1_up\", \"m2_up\", \"k2_up\", \"b2_up\"]#, \n",
    "\n",
    "for i in library:\n",
    "    string = \"\"\"\n",
    "        function \"\"\"+i+\"\"\"_click() {\n",
    "            if (parseFloat(_this.\"\"\"+i[:2]+\"\"\"_text.text) > 0) {\n",
    "                _this.\"\"\"+i[:2]+\"\"\"_text.text = parseFloat(_this.\"\"\"+i[:2]+\"\"\"_text.text) - 1;\n",
    "            }\n",
    "        }\"\"\"\n",
    "    print(string)"
   ]
  },
  {
   "cell_type": "code",
   "execution_count": 4,
   "metadata": {},
   "outputs": [
    {
     "name": "stdout",
     "output_type": "stream",
     "text": [
      "\n",
      "        this.play_button.addEventListener(\"mouseover\", play_mo);\n",
      "        this.play_button.addEventListener(\"mouseout\", play_mout);\n",
      "        \n",
      "\n",
      "        this.intro_button.addEventListener(\"mouseover\", intro_mo);\n",
      "        this.intro_button.addEventListener(\"mouseout\", intro_mout);\n",
      "        \n",
      "\n",
      "        this.lesson1_button.addEventListener(\"mouseover\", lesson1_mo);\n",
      "        this.lesson1_button.addEventListener(\"mouseout\", lesson1_mout);\n",
      "        \n",
      "\n",
      "        this.lab1_button.addEventListener(\"mouseover\", lab1_mo);\n",
      "        this.lab1_button.addEventListener(\"mouseout\", lab1_mout);\n",
      "        \n",
      "\n",
      "        this.lesson2_button.addEventListener(\"mouseover\", lesson2_mo);\n",
      "        this.lesson2_button.addEventListener(\"mouseout\", lesson2_mout);\n",
      "        \n",
      "\n",
      "        this.lab2_button.addEventListener(\"mouseover\", lab2_mo);\n",
      "        this.lab2_button.addEventListener(\"mouseout\", lab2_mout);\n",
      "        \n"
     ]
    }
   ],
   "source": [
    "library = ['play', 'intro', 'lesson1', 'lab1', 'lesson2', 'lab2']\n",
    "for i in library:\n",
    "    string = \"\"\"\n",
    "        this.{}_button.addEventListener(\"mouseover\", {}_mo);\n",
    "        this.{}_button.addEventListener(\"mouseout\", mouse_out);\n",
    "        \"\"\".format(i,i,i,i)\n",
    "    print(string)"
   ]
  },
  {
   "cell_type": "code",
   "execution_count": 12,
   "metadata": {},
   "outputs": [
    {
     "name": "stdout",
     "output_type": "stream",
     "text": [
      " \n",
      "function play_mo()\n",
      "{\n",
      "    _this.path.alpha = 1;\n",
      "    _this.display_box.visible = true;\n",
      "    _this.text.text = \"HI\";\n",
      "    _this.text.visible = true;\n",
      "\n",
      "}\n",
      "        \n",
      " \n",
      "function intro_mo()\n",
      "{\n",
      "    _this.path.alpha = 1;\n",
      "    _this.display_box.visible = true;\n",
      "    _this.text.text = \"HI\";\n",
      "    _this.text.visible = true;\n",
      "\n",
      "}\n",
      "        \n",
      " \n",
      "function lesson1_mo()\n",
      "{\n",
      "    _this.path.alpha = 1;\n",
      "    _this.display_box.visible = true;\n",
      "    _this.text.text = \"HI\";\n",
      "    _this.text.visible = true;\n",
      "\n",
      "}\n",
      "        \n",
      " \n",
      "function lab1_mo()\n",
      "{\n",
      "    _this.path.alpha = 1;\n",
      "    _this.display_box.visible = true;\n",
      "    _this.text.text = \"HI\";\n",
      "    _this.text.visible = true;\n",
      "\n",
      "}\n",
      "        \n",
      " \n",
      "function lesson2_mo()\n",
      "{\n",
      "    _this.path.alpha = 1;\n",
      "    _this.display_box.visible = true;\n",
      "    _this.text.text = \"HI\";\n",
      "    _this.text.visible = true;\n",
      "\n",
      "}\n",
      "        \n",
      " \n",
      "function lab2_mo()\n",
      "{\n",
      "    _this.path.alpha = 1;\n",
      "    _this.display_box.visible = true;\n",
      "    _this.text.text = \"HI\";\n",
      "    _this.text.visible = true;\n",
      "\n",
      "}\n",
      "        \n"
     ]
    }
   ],
   "source": [
    "library = ['play', 'intro', 'lesson1', 'lab1', 'lesson2', 'lab2']\n",
    "for i in library:\n",
    "    string = \"\"\" \n",
    "function {}_mo()\n",
    "{{\n",
    "    _this.path.alpha = 1;\n",
    "    _this.display_box.visible = true;\n",
    "    _this.text.text = \"HI\";\n",
    "    _this.text.visible = true;\n",
    "\n",
    "}}\n",
    "        \"\"\".format(i)\n",
    "    print(string)\n"
   ]
  },
  {
   "cell_type": "code",
   "execution_count": null,
   "metadata": {
    "collapsed": true
   },
   "outputs": [],
   "source": [
    "library = ['play', 'intro', 'lesson1', 'lab1', 'lesson2', 'lab2']\n",
    "for i in library:\n",
    "    string = \"\"\"\n",
    "function {}_mout(){{\n",
    "    _this.path.alpha = .5;\n",
    "    _this.display_box.visible = false;\n",
    "    _this.text.visible = false;\n",
    "\n",
    "}}\n",
    "\"\"\".format(i)\n",
    "    print(string)\n",
    "\n",
    "\n"
   ]
  }
 ],
 "metadata": {
  "kernelspec": {
   "display_name": "Python 3",
   "language": "python",
   "name": "python3"
  },
  "language_info": {
   "codemirror_mode": {
    "name": "ipython",
    "version": 3
   },
   "file_extension": ".py",
   "mimetype": "text/x-python",
   "name": "python",
   "nbconvert_exporter": "python",
   "pygments_lexer": "ipython3",
   "version": "3.6.1"
  }
 },
 "nbformat": 4,
 "nbformat_minor": 2
}
